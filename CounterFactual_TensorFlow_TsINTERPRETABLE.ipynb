{
  "nbformat": 4,
  "nbformat_minor": 0,
  "metadata": {
    "colab": {
      "provenance": [],
      "gpuType": "T4",
      "authorship_tag": "ABX9TyPzUjF63tybie4Fbue0lLR8",
      "include_colab_link": true
    },
    "kernelspec": {
      "name": "python3",
      "display_name": "Python 3"
    },
    "language_info": {
      "name": "python"
    },
    "accelerator": "GPU"
  },
  "cells": [
    {
      "cell_type": "markdown",
      "metadata": {
        "id": "view-in-github",
        "colab_type": "text"
      },
      "source": [
        "<a href=\"https://colab.research.google.com/github/marreapato/AIRBNB_Regression_Analysis/blob/main/CounterFactual_TensorFlow_TsINTERPRETABLE.ipynb\" target=\"_parent\"><img src=\"https://colab.research.google.com/assets/colab-badge.svg\" alt=\"Open In Colab\"/></a>"
      ]
    },
    {
      "cell_type": "code",
      "source": [
        "!pip install TSInterpret\n"
      ],
      "metadata": {
        "colab": {
          "base_uri": "https://localhost:8080/"
        },
        "id": "d_9eq-nuORAF",
        "outputId": "c36f30ba-c583-4e18-b103-78b6316b20ea"
      },
      "execution_count": null,
      "outputs": [
        {
          "output_type": "stream",
          "name": "stdout",
          "text": [
            "Collecting TSInterpret\n",
            "  Downloading TSInterpret-0.4.5-py3-none-any.whl (102 kB)\n",
            "\u001b[2K     \u001b[90m━━━━━━━━━━━━━━━━━━━━━━━━━━━━━━━━━━━━━━━━\u001b[0m \u001b[32m102.5/102.5 kB\u001b[0m \u001b[31m881.9 kB/s\u001b[0m eta \u001b[36m0:00:00\u001b[0m\n",
            "\u001b[?25hCollecting scikit-learn==1.3.0 (from TSInterpret)\n",
            "  Downloading scikit_learn-1.3.0-cp310-cp310-manylinux_2_17_x86_64.manylinux2014_x86_64.whl (10.8 MB)\n",
            "\u001b[2K     \u001b[90m━━━━━━━━━━━━━━━━━━━━━━━━━━━━━━━━━━━━━━━━\u001b[0m \u001b[32m10.8/10.8 MB\u001b[0m \u001b[31m24.1 MB/s\u001b[0m eta \u001b[36m0:00:00\u001b[0m\n",
            "\u001b[?25hRequirement already satisfied: torch<3.0,>=1.13.0 in /usr/local/lib/python3.10/dist-packages (from TSInterpret) (2.2.1+cu121)\n",
            "Requirement already satisfied: pandas<=3.0.0 in /usr/local/lib/python3.10/dist-packages (from TSInterpret) (2.0.3)\n",
            "Requirement already satisfied: numpy<2.0,>=1.21.6 in /usr/local/lib/python3.10/dist-packages (from TSInterpret) (1.25.2)\n",
            "Collecting tqdm<4.66.0,>=4.61.2 (from TSInterpret)\n",
            "  Downloading tqdm-4.65.2-py3-none-any.whl (77 kB)\n",
            "\u001b[2K     \u001b[90m━━━━━━━━━━━━━━━━━━━━━━━━━━━━━━━━━━━━━━━━\u001b[0m \u001b[32m77.1/77.1 kB\u001b[0m \u001b[31m5.5 MB/s\u001b[0m eta \u001b[36m0:00:00\u001b[0m\n",
            "\u001b[?25hRequirement already satisfied: h5py in /usr/local/lib/python3.10/dist-packages (from TSInterpret) (3.9.0)\n",
            "Requirement already satisfied: joblib<2.0,>=1.0.1 in /usr/local/lib/python3.10/dist-packages (from TSInterpret) (1.3.2)\n",
            "Collecting Markdown<4.0,==3.3.4 (from TSInterpret)\n",
            "  Downloading Markdown-3.3.4-py3-none-any.whl (97 kB)\n",
            "\u001b[2K     \u001b[90m━━━━━━━━━━━━━━━━━━━━━━━━━━━━━━━━━━━━━━━━\u001b[0m \u001b[32m97.6/97.6 kB\u001b[0m \u001b[31m8.5 MB/s\u001b[0m eta \u001b[36m0:00:00\u001b[0m\n",
            "\u001b[?25hRequirement already satisfied: matplotlib<4.0,>=3.3.4 in /usr/local/lib/python3.10/dist-packages (from TSInterpret) (3.7.1)\n",
            "Collecting partd==1.2.0 (from TSInterpret)\n",
            "  Downloading partd-1.2.0-py3-none-any.whl (19 kB)\n",
            "Requirement already satisfied: pytz>=2021.3 in /usr/local/lib/python3.10/dist-packages (from TSInterpret) (2023.4)\n",
            "Collecting shap<1.0,>=0.39.0 (from TSInterpret)\n",
            "  Downloading shap-0.45.0-cp310-cp310-manylinux_2_12_x86_64.manylinux2010_x86_64.manylinux_2_17_x86_64.manylinux2014_x86_64.whl (538 kB)\n",
            "\u001b[2K     \u001b[90m━━━━━━━━━━━━━━━━━━━━━━━━━━━━━━━━━━━━━━━━\u001b[0m \u001b[32m538.2/538.2 kB\u001b[0m \u001b[31m23.7 MB/s\u001b[0m eta \u001b[36m0:00:00\u001b[0m\n",
            "\u001b[?25hCollecting tensorflow<=2.14.1,>=2.9.1 (from TSInterpret)\n",
            "  Downloading tensorflow-2.14.1-cp310-cp310-manylinux_2_17_x86_64.manylinux2014_x86_64.whl (489.9 MB)\n",
            "\u001b[2K     \u001b[90m━━━━━━━━━━━━━━━━━━━━━━━━━━━━━━━━━━━━━━━━\u001b[0m \u001b[32m489.9/489.9 MB\u001b[0m \u001b[31m2.1 MB/s\u001b[0m eta \u001b[36m0:00:00\u001b[0m\n",
            "\u001b[?25hRequirement already satisfied: keras<3.0,>=2.9.0 in /usr/local/lib/python3.10/dist-packages (from TSInterpret) (2.15.0)\n",
            "Collecting tsfresh<1.0,>=0.18.0 (from TSInterpret)\n",
            "  Downloading tsfresh-0.20.2-py2.py3-none-any.whl (95 kB)\n",
            "\u001b[2K     \u001b[90m━━━━━━━━━━━━━━━━━━━━━━━━━━━━━━━━━━━━━━━━\u001b[0m \u001b[32m95.8/95.8 kB\u001b[0m \u001b[31m5.1 MB/s\u001b[0m eta \u001b[36m0:00:00\u001b[0m\n",
            "\u001b[?25hCollecting tslearn<1.0,>=0.5.2 (from TSInterpret)\n",
            "  Downloading tslearn-0.6.3-py3-none-any.whl (374 kB)\n",
            "\u001b[2K     \u001b[90m━━━━━━━━━━━━━━━━━━━━━━━━━━━━━━━━━━━━━━━━\u001b[0m \u001b[32m374.4/374.4 kB\u001b[0m \u001b[31m4.8 MB/s\u001b[0m eta \u001b[36m0:00:00\u001b[0m\n",
            "\u001b[?25hRequirement already satisfied: seaborn<1.0,>=0.11.2 in /usr/local/lib/python3.10/dist-packages (from TSInterpret) (0.13.1)\n",
            "Collecting scikit-optimize<1.0,>=0.9.0 (from TSInterpret)\n",
            "  Downloading scikit_optimize-0.10.1-py2.py3-none-any.whl (107 kB)\n",
            "\u001b[2K     \u001b[90m━━━━━━━━━━━━━━━━━━━━━━━━━━━━━━━━━━━━━━━━\u001b[0m \u001b[32m107.7/107.7 kB\u001b[0m \u001b[31m5.4 MB/s\u001b[0m eta \u001b[36m0:00:00\u001b[0m\n",
            "\u001b[?25hCollecting torchcam<1.0,>=0.3.1 (from TSInterpret)\n",
            "  Downloading torchcam-0.4.0-py3-none-any.whl (46 kB)\n",
            "\u001b[2K     \u001b[90m━━━━━━━━━━━━━━━━━━━━━━━━━━━━━━━━━━━━━━━━\u001b[0m \u001b[32m46.0/46.0 kB\u001b[0m \u001b[31m4.3 MB/s\u001b[0m eta \u001b[36m0:00:00\u001b[0m\n",
            "\u001b[?25hCollecting tf-explain<1.0,>=0.3.1 (from TSInterpret)\n",
            "  Downloading tf_explain-0.3.1-py3-none-any.whl (43 kB)\n",
            "\u001b[2K     \u001b[90m━━━━━━━━━━━━━━━━━━━━━━━━━━━━━━━━━━━━━━━━\u001b[0m \u001b[32m43.6/43.6 kB\u001b[0m \u001b[31m4.0 MB/s\u001b[0m eta \u001b[36m0:00:00\u001b[0m\n",
            "\u001b[?25hCollecting opencv-python==4.6.0.66 (from TSInterpret)\n",
            "  Downloading opencv_python-4.6.0.66-cp36-abi3-manylinux_2_17_x86_64.manylinux2014_x86_64.whl (60.9 MB)\n",
            "\u001b[2K     \u001b[90m━━━━━━━━━━━━━━━━━━━━━━━━━━━━━━━━━━━━━━━━\u001b[0m \u001b[32m60.9/60.9 MB\u001b[0m \u001b[31m4.2 MB/s\u001b[0m eta \u001b[36m0:00:00\u001b[0m\n",
            "\u001b[?25hCollecting captum<1.0,>=0.5.0 (from TSInterpret)\n",
            "  Downloading captum-0.7.0-py3-none-any.whl (1.3 MB)\n",
            "\u001b[2K     \u001b[90m━━━━━━━━━━━━━━━━━━━━━━━━━━━━━━━━━━━━━━━━\u001b[0m \u001b[32m1.3/1.3 MB\u001b[0m \u001b[31m6.2 MB/s\u001b[0m eta \u001b[36m0:00:00\u001b[0m\n",
            "\u001b[?25hCollecting pyts<1.0,>=0.12.0 (from TSInterpret)\n",
            "  Downloading pyts-0.13.0-py3-none-any.whl (2.5 MB)\n",
            "\u001b[2K     \u001b[90m━━━━━━━━━━━━━━━━━━━━━━━━━━━━━━━━━━━━━━━━\u001b[0m \u001b[32m2.5/2.5 MB\u001b[0m \u001b[31m6.4 MB/s\u001b[0m eta \u001b[36m0:00:00\u001b[0m\n",
            "\u001b[?25hCollecting deprecated==1.2.13 (from TSInterpret)\n",
            "  Downloading Deprecated-1.2.13-py2.py3-none-any.whl (9.6 kB)\n",
            "Collecting pymop (from TSInterpret)\n",
            "  Downloading pymop-0.2.4-py3-none-any.whl (39 kB)\n",
            "Collecting deap (from TSInterpret)\n",
            "  Downloading deap-1.4.1-cp310-cp310-manylinux_2_5_x86_64.manylinux1_x86_64.manylinux_2_17_x86_64.manylinux2014_x86_64.whl (135 kB)\n",
            "\u001b[2K     \u001b[90m━━━━━━━━━━━━━━━━━━━━━━━━━━━━━━━━━━━━━━━━\u001b[0m \u001b[32m135.4/135.4 kB\u001b[0m \u001b[31m7.1 MB/s\u001b[0m eta \u001b[36m0:00:00\u001b[0m\n",
            "\u001b[?25hRequirement already satisfied: wheel in /usr/local/lib/python3.10/dist-packages (from TSInterpret) (0.43.0)\n",
            "Collecting sktime (from TSInterpret)\n",
            "  Downloading sktime-0.28.0-py3-none-any.whl (21.9 MB)\n",
            "\u001b[2K     \u001b[90m━━━━━━━━━━━━━━━━━━━━━━━━━━━━━━━━━━━━━━━━\u001b[0m \u001b[32m21.9/21.9 MB\u001b[0m \u001b[31m7.7 MB/s\u001b[0m eta \u001b[36m0:00:00\u001b[0m\n",
            "\u001b[?25hRequirement already satisfied: wrapt<2,>=1.10 in /usr/local/lib/python3.10/dist-packages (from deprecated==1.2.13->TSInterpret) (1.14.1)\n",
            "Requirement already satisfied: locket in /usr/local/lib/python3.10/dist-packages (from partd==1.2.0->TSInterpret) (1.0.0)\n",
            "Requirement already satisfied: toolz in /usr/local/lib/python3.10/dist-packages (from partd==1.2.0->TSInterpret) (0.12.1)\n",
            "Requirement already satisfied: scipy>=1.5.0 in /usr/local/lib/python3.10/dist-packages (from scikit-learn==1.3.0->TSInterpret) (1.11.4)\n",
            "Requirement already satisfied: threadpoolctl>=2.0.0 in /usr/local/lib/python3.10/dist-packages (from scikit-learn==1.3.0->TSInterpret) (3.4.0)\n",
            "Requirement already satisfied: contourpy>=1.0.1 in /usr/local/lib/python3.10/dist-packages (from matplotlib<4.0,>=3.3.4->TSInterpret) (1.2.0)\n",
            "Requirement already satisfied: cycler>=0.10 in /usr/local/lib/python3.10/dist-packages (from matplotlib<4.0,>=3.3.4->TSInterpret) (0.12.1)\n",
            "Requirement already satisfied: fonttools>=4.22.0 in /usr/local/lib/python3.10/dist-packages (from matplotlib<4.0,>=3.3.4->TSInterpret) (4.50.0)\n",
            "Requirement already satisfied: kiwisolver>=1.0.1 in /usr/local/lib/python3.10/dist-packages (from matplotlib<4.0,>=3.3.4->TSInterpret) (1.4.5)\n",
            "Requirement already satisfied: packaging>=20.0 in /usr/local/lib/python3.10/dist-packages (from matplotlib<4.0,>=3.3.4->TSInterpret) (24.0)\n",
            "Requirement already satisfied: pillow>=6.2.0 in /usr/local/lib/python3.10/dist-packages (from matplotlib<4.0,>=3.3.4->TSInterpret) (9.4.0)\n",
            "Requirement already satisfied: pyparsing>=2.3.1 in /usr/local/lib/python3.10/dist-packages (from matplotlib<4.0,>=3.3.4->TSInterpret) (3.1.2)\n",
            "Requirement already satisfied: python-dateutil>=2.7 in /usr/local/lib/python3.10/dist-packages (from matplotlib<4.0,>=3.3.4->TSInterpret) (2.8.2)\n",
            "Requirement already satisfied: tzdata>=2022.1 in /usr/local/lib/python3.10/dist-packages (from pandas<=3.0.0->TSInterpret) (2024.1)\n",
            "Requirement already satisfied: numba>=0.55.2 in /usr/local/lib/python3.10/dist-packages (from pyts<1.0,>=0.12.0->TSInterpret) (0.58.1)\n",
            "Collecting pyaml>=16.9 (from scikit-optimize<1.0,>=0.9.0->TSInterpret)\n",
            "  Downloading pyaml-23.12.0-py3-none-any.whl (23 kB)\n",
            "Collecting slicer==0.0.7 (from shap<1.0,>=0.39.0->TSInterpret)\n",
            "  Downloading slicer-0.0.7-py3-none-any.whl (14 kB)\n",
            "Requirement already satisfied: cloudpickle in /usr/local/lib/python3.10/dist-packages (from shap<1.0,>=0.39.0->TSInterpret) (2.2.1)\n",
            "Requirement already satisfied: absl-py>=1.0.0 in /usr/local/lib/python3.10/dist-packages (from tensorflow<=2.14.1,>=2.9.1->TSInterpret) (1.4.0)\n",
            "Requirement already satisfied: astunparse>=1.6.0 in /usr/local/lib/python3.10/dist-packages (from tensorflow<=2.14.1,>=2.9.1->TSInterpret) (1.6.3)\n",
            "Requirement already satisfied: flatbuffers>=23.5.26 in /usr/local/lib/python3.10/dist-packages (from tensorflow<=2.14.1,>=2.9.1->TSInterpret) (24.3.25)\n",
            "Requirement already satisfied: gast!=0.5.0,!=0.5.1,!=0.5.2,>=0.2.1 in /usr/local/lib/python3.10/dist-packages (from tensorflow<=2.14.1,>=2.9.1->TSInterpret) (0.5.4)\n",
            "Requirement already satisfied: google-pasta>=0.1.1 in /usr/local/lib/python3.10/dist-packages (from tensorflow<=2.14.1,>=2.9.1->TSInterpret) (0.2.0)\n",
            "Requirement already satisfied: libclang>=13.0.0 in /usr/local/lib/python3.10/dist-packages (from tensorflow<=2.14.1,>=2.9.1->TSInterpret) (18.1.1)\n",
            "Requirement already satisfied: ml-dtypes==0.2.0 in /usr/local/lib/python3.10/dist-packages (from tensorflow<=2.14.1,>=2.9.1->TSInterpret) (0.2.0)\n",
            "Requirement already satisfied: opt-einsum>=2.3.2 in /usr/local/lib/python3.10/dist-packages (from tensorflow<=2.14.1,>=2.9.1->TSInterpret) (3.3.0)\n",
            "Requirement already satisfied: protobuf!=4.21.0,!=4.21.1,!=4.21.2,!=4.21.3,!=4.21.4,!=4.21.5,<5.0.0dev,>=3.20.3 in /usr/local/lib/python3.10/dist-packages (from tensorflow<=2.14.1,>=2.9.1->TSInterpret) (3.20.3)\n",
            "Requirement already satisfied: setuptools in /usr/local/lib/python3.10/dist-packages (from tensorflow<=2.14.1,>=2.9.1->TSInterpret) (67.7.2)\n",
            "Requirement already satisfied: six>=1.12.0 in /usr/local/lib/python3.10/dist-packages (from tensorflow<=2.14.1,>=2.9.1->TSInterpret) (1.16.0)\n",
            "Requirement already satisfied: termcolor>=1.1.0 in /usr/local/lib/python3.10/dist-packages (from tensorflow<=2.14.1,>=2.9.1->TSInterpret) (2.4.0)\n",
            "Requirement already satisfied: typing-extensions>=3.6.6 in /usr/local/lib/python3.10/dist-packages (from tensorflow<=2.14.1,>=2.9.1->TSInterpret) (4.10.0)\n",
            "Requirement already satisfied: tensorflow-io-gcs-filesystem>=0.23.1 in /usr/local/lib/python3.10/dist-packages (from tensorflow<=2.14.1,>=2.9.1->TSInterpret) (0.36.0)\n",
            "Requirement already satisfied: grpcio<2.0,>=1.24.3 in /usr/local/lib/python3.10/dist-packages (from tensorflow<=2.14.1,>=2.9.1->TSInterpret) (1.62.1)\n",
            "Collecting tensorboard<2.15,>=2.14 (from tensorflow<=2.14.1,>=2.9.1->TSInterpret)\n",
            "  Downloading tensorboard-2.14.1-py3-none-any.whl (5.5 MB)\n",
            "\u001b[2K     \u001b[90m━━━━━━━━━━━━━━━━━━━━━━━━━━━━━━━━━━━━━━━━\u001b[0m \u001b[32m5.5/5.5 MB\u001b[0m \u001b[31m8.7 MB/s\u001b[0m eta \u001b[36m0:00:00\u001b[0m\n",
            "\u001b[?25hCollecting tensorflow-estimator<2.15,>=2.14.0 (from tensorflow<=2.14.1,>=2.9.1->TSInterpret)\n",
            "  Downloading tensorflow_estimator-2.14.0-py2.py3-none-any.whl (440 kB)\n",
            "\u001b[2K     \u001b[90m━━━━━━━━━━━━━━━━━━━━━━━━━━━━━━━━━━━━━━━━\u001b[0m \u001b[32m440.7/440.7 kB\u001b[0m \u001b[31m8.5 MB/s\u001b[0m eta \u001b[36m0:00:00\u001b[0m\n",
            "\u001b[?25hCollecting keras<3.0,>=2.9.0 (from TSInterpret)\n",
            "  Downloading keras-2.14.0-py3-none-any.whl (1.7 MB)\n",
            "\u001b[2K     \u001b[90m━━━━━━━━━━━━━━━━━━━━━━━━━━━━━━━━━━━━━━━━\u001b[0m \u001b[32m1.7/1.7 MB\u001b[0m \u001b[31m8.9 MB/s\u001b[0m eta \u001b[36m0:00:00\u001b[0m\n",
            "\u001b[?25hRequirement already satisfied: filelock in /usr/local/lib/python3.10/dist-packages (from torch<3.0,>=1.13.0->TSInterpret) (3.13.3)\n",
            "Requirement already satisfied: sympy in /usr/local/lib/python3.10/dist-packages (from torch<3.0,>=1.13.0->TSInterpret) (1.12)\n",
            "Requirement already satisfied: networkx in /usr/local/lib/python3.10/dist-packages (from torch<3.0,>=1.13.0->TSInterpret) (3.2.1)\n",
            "Requirement already satisfied: jinja2 in /usr/local/lib/python3.10/dist-packages (from torch<3.0,>=1.13.0->TSInterpret) (3.1.3)\n",
            "Requirement already satisfied: fsspec in /usr/local/lib/python3.10/dist-packages (from torch<3.0,>=1.13.0->TSInterpret) (2023.6.0)\n",
            "Collecting nvidia-cuda-nvrtc-cu12==12.1.105 (from torch<3.0,>=1.13.0->TSInterpret)\n",
            "  Downloading nvidia_cuda_nvrtc_cu12-12.1.105-py3-none-manylinux1_x86_64.whl (23.7 MB)\n",
            "\u001b[2K     \u001b[90m━━━━━━━━━━━━━━━━━━━━━━━━━━━━━━━━━━━━━━━━\u001b[0m \u001b[32m23.7/23.7 MB\u001b[0m \u001b[31m9.5 MB/s\u001b[0m eta \u001b[36m0:00:00\u001b[0m\n",
            "\u001b[?25hCollecting nvidia-cuda-runtime-cu12==12.1.105 (from torch<3.0,>=1.13.0->TSInterpret)\n",
            "  Downloading nvidia_cuda_runtime_cu12-12.1.105-py3-none-manylinux1_x86_64.whl (823 kB)\n",
            "\u001b[2K     \u001b[90m━━━━━━━━━━━━━━━━━━━━━━━━━━━━━━━━━━━━━━━━\u001b[0m \u001b[32m823.6/823.6 kB\u001b[0m \u001b[31m10.1 MB/s\u001b[0m eta \u001b[36m0:00:00\u001b[0m\n",
            "\u001b[?25hCollecting nvidia-cuda-cupti-cu12==12.1.105 (from torch<3.0,>=1.13.0->TSInterpret)\n",
            "  Downloading nvidia_cuda_cupti_cu12-12.1.105-py3-none-manylinux1_x86_64.whl (14.1 MB)\n",
            "\u001b[2K     \u001b[90m━━━━━━━━━━━━━━━━━━━━━━━━━━━━━━━━━━━━━━━━\u001b[0m \u001b[32m14.1/14.1 MB\u001b[0m \u001b[31m8.8 MB/s\u001b[0m eta \u001b[36m0:00:00\u001b[0m\n",
            "\u001b[?25hCollecting nvidia-cudnn-cu12==8.9.2.26 (from torch<3.0,>=1.13.0->TSInterpret)\n",
            "  Downloading nvidia_cudnn_cu12-8.9.2.26-py3-none-manylinux1_x86_64.whl (731.7 MB)\n",
            "\u001b[2K     \u001b[90m━━━━━━━━━━━━━━━━━━━━━━━━━━━━━━━━━━━━━━━━\u001b[0m \u001b[32m731.7/731.7 MB\u001b[0m \u001b[31m2.1 MB/s\u001b[0m eta \u001b[36m0:00:00\u001b[0m\n",
            "\u001b[?25hCollecting nvidia-cublas-cu12==12.1.3.1 (from torch<3.0,>=1.13.0->TSInterpret)\n",
            "  Downloading nvidia_cublas_cu12-12.1.3.1-py3-none-manylinux1_x86_64.whl (410.6 MB)\n",
            "\u001b[2K     \u001b[90m━━━━━━━━━━━━━━━━━━━━━━━━━━━━━━━━━━━━━━━━\u001b[0m \u001b[32m410.6/410.6 MB\u001b[0m \u001b[31m2.7 MB/s\u001b[0m eta \u001b[36m0:00:00\u001b[0m\n",
            "\u001b[?25hCollecting nvidia-cufft-cu12==11.0.2.54 (from torch<3.0,>=1.13.0->TSInterpret)\n",
            "  Downloading nvidia_cufft_cu12-11.0.2.54-py3-none-manylinux1_x86_64.whl (121.6 MB)\n",
            "\u001b[2K     \u001b[90m━━━━━━━━━━━━━━━━━━━━━━━━━━━━━━━━━━━━━━━━\u001b[0m \u001b[32m121.6/121.6 MB\u001b[0m \u001b[31m7.2 MB/s\u001b[0m eta \u001b[36m0:00:00\u001b[0m\n",
            "\u001b[?25hCollecting nvidia-curand-cu12==10.3.2.106 (from torch<3.0,>=1.13.0->TSInterpret)\n",
            "  Downloading nvidia_curand_cu12-10.3.2.106-py3-none-manylinux1_x86_64.whl (56.5 MB)\n",
            "\u001b[2K     \u001b[90m━━━━━━━━━━━━━━━━━━━━━━━━━━━━━━━━━━━━━━━━\u001b[0m \u001b[32m56.5/56.5 MB\u001b[0m \u001b[31m7.9 MB/s\u001b[0m eta \u001b[36m0:00:00\u001b[0m\n",
            "\u001b[?25hCollecting nvidia-cusolver-cu12==11.4.5.107 (from torch<3.0,>=1.13.0->TSInterpret)\n",
            "  Downloading nvidia_cusolver_cu12-11.4.5.107-py3-none-manylinux1_x86_64.whl (124.2 MB)\n",
            "\u001b[2K     \u001b[90m━━━━━━━━━━━━━━━━━━━━━━━━━━━━━━━━━━━━━━━━\u001b[0m \u001b[32m124.2/124.2 MB\u001b[0m \u001b[31m6.3 MB/s\u001b[0m eta \u001b[36m0:00:00\u001b[0m\n",
            "\u001b[?25hCollecting nvidia-cusparse-cu12==12.1.0.106 (from torch<3.0,>=1.13.0->TSInterpret)\n",
            "  Downloading nvidia_cusparse_cu12-12.1.0.106-py3-none-manylinux1_x86_64.whl (196.0 MB)\n",
            "\u001b[2K     \u001b[90m━━━━━━━━━━━━━━━━━━━━━━━━━━━━━━━━━━━━━━━━\u001b[0m \u001b[32m196.0/196.0 MB\u001b[0m \u001b[31m4.6 MB/s\u001b[0m eta \u001b[36m0:00:00\u001b[0m\n",
            "\u001b[?25hCollecting nvidia-nccl-cu12==2.19.3 (from torch<3.0,>=1.13.0->TSInterpret)\n",
            "  Downloading nvidia_nccl_cu12-2.19.3-py3-none-manylinux1_x86_64.whl (166.0 MB)\n",
            "\u001b[2K     \u001b[90m━━━━━━━━━━━━━━━━━━━━━━━━━━━━━━━━━━━━━━━━\u001b[0m \u001b[32m166.0/166.0 MB\u001b[0m \u001b[31m5.7 MB/s\u001b[0m eta \u001b[36m0:00:00\u001b[0m\n",
            "\u001b[?25hCollecting nvidia-nvtx-cu12==12.1.105 (from torch<3.0,>=1.13.0->TSInterpret)\n",
            "  Downloading nvidia_nvtx_cu12-12.1.105-py3-none-manylinux1_x86_64.whl (99 kB)\n",
            "\u001b[2K     \u001b[90m━━━━━━━━━━━━━━━━━━━━━━━━━━━━━━━━━━━━━━━━\u001b[0m \u001b[32m99.1/99.1 kB\u001b[0m \u001b[31m13.9 MB/s\u001b[0m eta \u001b[36m0:00:00\u001b[0m\n",
            "\u001b[?25hRequirement already satisfied: triton==2.2.0 in /usr/local/lib/python3.10/dist-packages (from torch<3.0,>=1.13.0->TSInterpret) (2.2.0)\n",
            "Collecting nvidia-nvjitlink-cu12 (from nvidia-cusolver-cu12==11.4.5.107->torch<3.0,>=1.13.0->TSInterpret)\n",
            "  Downloading nvidia_nvjitlink_cu12-12.4.127-py3-none-manylinux2014_x86_64.whl (21.1 MB)\n",
            "\u001b[2K     \u001b[90m━━━━━━━━━━━━━━━━━━━━━━━━━━━━━━━━━━━━━━━━\u001b[0m \u001b[32m21.1/21.1 MB\u001b[0m \u001b[31m17.1 MB/s\u001b[0m eta \u001b[36m0:00:00\u001b[0m\n",
            "\u001b[?25hRequirement already satisfied: requests>=2.9.1 in /usr/local/lib/python3.10/dist-packages (from tsfresh<1.0,>=0.18.0->TSInterpret) (2.31.0)\n",
            "Requirement already satisfied: statsmodels>=0.13 in /usr/local/lib/python3.10/dist-packages (from tsfresh<1.0,>=0.18.0->TSInterpret) (0.14.1)\n",
            "Requirement already satisfied: patsy>=0.4.1 in /usr/local/lib/python3.10/dist-packages (from tsfresh<1.0,>=0.18.0->TSInterpret) (0.5.6)\n",
            "Collecting stumpy>=1.7.2 (from tsfresh<1.0,>=0.18.0->TSInterpret)\n",
            "  Downloading stumpy-1.12.0-py3-none-any.whl (169 kB)\n",
            "\u001b[2K     \u001b[90m━━━━━━━━━━━━━━━━━━━━━━━━━━━━━━━━━━━━━━━━\u001b[0m \u001b[32m169.1/169.1 kB\u001b[0m \u001b[31m17.1 MB/s\u001b[0m eta \u001b[36m0:00:00\u001b[0m\n",
            "\u001b[?25hRequirement already satisfied: autograd in /usr/local/lib/python3.10/dist-packages (from pymop->TSInterpret) (1.6.2)\n",
            "Collecting scikit-base<0.8.0 (from sktime->TSInterpret)\n",
            "  Downloading scikit_base-0.7.5-py3-none-any.whl (128 kB)\n",
            "\u001b[2K     \u001b[90m━━━━━━━━━━━━━━━━━━━━━━━━━━━━━━━━━━━━━━━━\u001b[0m \u001b[32m128.8/128.8 kB\u001b[0m \u001b[31m15.7 MB/s\u001b[0m eta \u001b[36m0:00:00\u001b[0m\n",
            "\u001b[?25hRequirement already satisfied: llvmlite<0.42,>=0.41.0dev0 in /usr/local/lib/python3.10/dist-packages (from numba>=0.55.2->pyts<1.0,>=0.12.0->TSInterpret) (0.41.1)\n",
            "Requirement already satisfied: PyYAML in /usr/local/lib/python3.10/dist-packages (from pyaml>=16.9->scikit-optimize<1.0,>=0.9.0->TSInterpret) (6.0.1)\n",
            "Requirement already satisfied: charset-normalizer<4,>=2 in /usr/local/lib/python3.10/dist-packages (from requests>=2.9.1->tsfresh<1.0,>=0.18.0->TSInterpret) (3.3.2)\n",
            "Requirement already satisfied: idna<4,>=2.5 in /usr/local/lib/python3.10/dist-packages (from requests>=2.9.1->tsfresh<1.0,>=0.18.0->TSInterpret) (3.6)\n",
            "Requirement already satisfied: urllib3<3,>=1.21.1 in /usr/local/lib/python3.10/dist-packages (from requests>=2.9.1->tsfresh<1.0,>=0.18.0->TSInterpret) (2.0.7)\n",
            "Requirement already satisfied: certifi>=2017.4.17 in /usr/local/lib/python3.10/dist-packages (from requests>=2.9.1->tsfresh<1.0,>=0.18.0->TSInterpret) (2024.2.2)\n",
            "Requirement already satisfied: google-auth<3,>=1.6.3 in /usr/local/lib/python3.10/dist-packages (from tensorboard<2.15,>=2.14->tensorflow<=2.14.1,>=2.9.1->TSInterpret) (2.27.0)\n",
            "Collecting google-auth-oauthlib<1.1,>=0.5 (from tensorboard<2.15,>=2.14->tensorflow<=2.14.1,>=2.9.1->TSInterpret)\n",
            "  Downloading google_auth_oauthlib-1.0.0-py2.py3-none-any.whl (18 kB)\n",
            "Requirement already satisfied: tensorboard-data-server<0.8.0,>=0.7.0 in /usr/local/lib/python3.10/dist-packages (from tensorboard<2.15,>=2.14->tensorflow<=2.14.1,>=2.9.1->TSInterpret) (0.7.2)\n",
            "Requirement already satisfied: werkzeug>=1.0.1 in /usr/local/lib/python3.10/dist-packages (from tensorboard<2.15,>=2.14->tensorflow<=2.14.1,>=2.9.1->TSInterpret) (3.0.2)\n",
            "Requirement already satisfied: future>=0.15.2 in /usr/local/lib/python3.10/dist-packages (from autograd->pymop->TSInterpret) (0.18.3)\n",
            "Requirement already satisfied: MarkupSafe>=2.0 in /usr/local/lib/python3.10/dist-packages (from jinja2->torch<3.0,>=1.13.0->TSInterpret) (2.1.5)\n",
            "Requirement already satisfied: mpmath>=0.19 in /usr/local/lib/python3.10/dist-packages (from sympy->torch<3.0,>=1.13.0->TSInterpret) (1.3.0)\n",
            "Requirement already satisfied: cachetools<6.0,>=2.0.0 in /usr/local/lib/python3.10/dist-packages (from google-auth<3,>=1.6.3->tensorboard<2.15,>=2.14->tensorflow<=2.14.1,>=2.9.1->TSInterpret) (5.3.3)\n",
            "Requirement already satisfied: pyasn1-modules>=0.2.1 in /usr/local/lib/python3.10/dist-packages (from google-auth<3,>=1.6.3->tensorboard<2.15,>=2.14->tensorflow<=2.14.1,>=2.9.1->TSInterpret) (0.4.0)\n",
            "Requirement already satisfied: rsa<5,>=3.1.4 in /usr/local/lib/python3.10/dist-packages (from google-auth<3,>=1.6.3->tensorboard<2.15,>=2.14->tensorflow<=2.14.1,>=2.9.1->TSInterpret) (4.9)\n",
            "Requirement already satisfied: requests-oauthlib>=0.7.0 in /usr/local/lib/python3.10/dist-packages (from google-auth-oauthlib<1.1,>=0.5->tensorboard<2.15,>=2.14->tensorflow<=2.14.1,>=2.9.1->TSInterpret) (1.3.1)\n",
            "Requirement already satisfied: pyasn1<0.7.0,>=0.4.6 in /usr/local/lib/python3.10/dist-packages (from pyasn1-modules>=0.2.1->google-auth<3,>=1.6.3->tensorboard<2.15,>=2.14->tensorflow<=2.14.1,>=2.9.1->TSInterpret) (0.6.0)\n",
            "Requirement already satisfied: oauthlib>=3.0.0 in /usr/local/lib/python3.10/dist-packages (from requests-oauthlib>=0.7.0->google-auth-oauthlib<1.1,>=0.5->tensorboard<2.15,>=2.14->tensorflow<=2.14.1,>=2.9.1->TSInterpret) (3.2.2)\n",
            "Installing collected packages: tqdm, tf-explain, tensorflow-estimator, slicer, scikit-base, pyaml, partd, opencv-python, nvidia-nvtx-cu12, nvidia-nvjitlink-cu12, nvidia-nccl-cu12, nvidia-curand-cu12, nvidia-cufft-cu12, nvidia-cuda-runtime-cu12, nvidia-cuda-nvrtc-cu12, nvidia-cuda-cupti-cu12, nvidia-cublas-cu12, Markdown, keras, deprecated, deap, stumpy, scikit-learn, pymop, nvidia-cusparse-cu12, nvidia-cudnn-cu12, tslearn, sktime, shap, scikit-optimize, pyts, nvidia-cusolver-cu12, google-auth-oauthlib, tsfresh, tensorboard, torchcam, tensorflow, captum, TSInterpret\n",
            "  Attempting uninstall: tqdm\n",
            "    Found existing installation: tqdm 4.66.2\n",
            "    Uninstalling tqdm-4.66.2:\n",
            "      Successfully uninstalled tqdm-4.66.2\n",
            "  Attempting uninstall: tensorflow-estimator\n",
            "    Found existing installation: tensorflow-estimator 2.15.0\n",
            "    Uninstalling tensorflow-estimator-2.15.0:\n",
            "      Successfully uninstalled tensorflow-estimator-2.15.0\n",
            "  Attempting uninstall: partd\n",
            "    Found existing installation: partd 1.4.1\n",
            "    Uninstalling partd-1.4.1:\n",
            "      Successfully uninstalled partd-1.4.1\n",
            "  Attempting uninstall: opencv-python\n",
            "    Found existing installation: opencv-python 4.8.0.76\n",
            "    Uninstalling opencv-python-4.8.0.76:\n",
            "      Successfully uninstalled opencv-python-4.8.0.76\n",
            "  Attempting uninstall: Markdown\n",
            "    Found existing installation: Markdown 3.6\n",
            "    Uninstalling Markdown-3.6:\n",
            "      Successfully uninstalled Markdown-3.6\n",
            "  Attempting uninstall: keras\n",
            "    Found existing installation: keras 2.15.0\n",
            "    Uninstalling keras-2.15.0:\n",
            "      Successfully uninstalled keras-2.15.0\n",
            "  Attempting uninstall: scikit-learn\n",
            "    Found existing installation: scikit-learn 1.2.2\n",
            "    Uninstalling scikit-learn-1.2.2:\n",
            "      Successfully uninstalled scikit-learn-1.2.2\n",
            "  Attempting uninstall: google-auth-oauthlib\n",
            "    Found existing installation: google-auth-oauthlib 1.2.0\n",
            "    Uninstalling google-auth-oauthlib-1.2.0:\n",
            "      Successfully uninstalled google-auth-oauthlib-1.2.0\n",
            "  Attempting uninstall: tensorboard\n",
            "    Found existing installation: tensorboard 2.15.2\n",
            "    Uninstalling tensorboard-2.15.2:\n",
            "      Successfully uninstalled tensorboard-2.15.2\n",
            "  Attempting uninstall: tensorflow\n",
            "    Found existing installation: tensorflow 2.15.0\n",
            "    Uninstalling tensorflow-2.15.0:\n",
            "      Successfully uninstalled tensorflow-2.15.0\n",
            "\u001b[31mERROR: pip's dependency resolver does not currently take into account all the packages that are installed. This behaviour is the source of the following dependency conflicts.\n",
            "tf-keras 2.15.1 requires tensorflow<2.16,>=2.15, but you have tensorflow 2.14.1 which is incompatible.\u001b[0m\u001b[31m\n",
            "\u001b[0mSuccessfully installed Markdown-3.3.4 TSInterpret-0.4.5 captum-0.7.0 deap-1.4.1 deprecated-1.2.13 google-auth-oauthlib-1.0.0 keras-2.14.0 nvidia-cublas-cu12-12.1.3.1 nvidia-cuda-cupti-cu12-12.1.105 nvidia-cuda-nvrtc-cu12-12.1.105 nvidia-cuda-runtime-cu12-12.1.105 nvidia-cudnn-cu12-8.9.2.26 nvidia-cufft-cu12-11.0.2.54 nvidia-curand-cu12-10.3.2.106 nvidia-cusolver-cu12-11.4.5.107 nvidia-cusparse-cu12-12.1.0.106 nvidia-nccl-cu12-2.19.3 nvidia-nvjitlink-cu12-12.4.127 nvidia-nvtx-cu12-12.1.105 opencv-python-4.6.0.66 partd-1.2.0 pyaml-23.12.0 pymop-0.2.4 pyts-0.13.0 scikit-base-0.7.5 scikit-learn-1.3.0 scikit-optimize-0.10.1 shap-0.45.0 sktime-0.28.0 slicer-0.0.7 stumpy-1.12.0 tensorboard-2.14.1 tensorflow-2.14.1 tensorflow-estimator-2.14.0 tf-explain-0.3.1 torchcam-0.4.0 tqdm-4.65.2 tsfresh-0.20.2 tslearn-0.6.3\n"
          ]
        }
      ]
    },
    {
      "cell_type": "code",
      "execution_count": null,
      "metadata": {
        "id": "e249JRnrMDn_"
      },
      "outputs": [],
      "source": [
        "import pickle\n",
        "import numpy as np\n",
        "import matplotlib.pyplot as plt\n",
        "import seaborn as snst\n",
        "from tslearn.datasets import UCR_UEA_datasets\n",
        "import tensorflow as tf\n",
        "import sklearn\n",
        "from sklearn.preprocessing import OneHotEncoder"
      ]
    },
    {
      "cell_type": "code",
      "source": [
        "# Load data.\n",
        "\n",
        "dataset='GunPoint'\n",
        "test_x, test_y,train_x,train_y=UCR_UEA_datasets().load_dataset(dataset)\n",
        "enc1=OneHotEncoder(sparse=False).fit(train_y.reshape(-1,1))\n",
        "train_y=enc1.transform(train_y.reshape(-1,1))\n",
        "test_y=enc1.transform(test_y.reshape(-1,1))"
      ],
      "metadata": {
        "id": "JEShSKHCOPrc",
        "colab": {
          "base_uri": "https://localhost:8080/"
        },
        "outputId": "928bbdc8-93c8-4854-89d1-d11e4b83afbc"
      },
      "execution_count": null,
      "outputs": [
        {
          "output_type": "stream",
          "name": "stderr",
          "text": [
            "/usr/local/lib/python3.10/dist-packages/sklearn/preprocessing/_encoders.py:972: FutureWarning: `sparse` was renamed to `sparse_output` in version 1.2 and will be removed in 1.4. `sparse_output` is ignored unless you leave `sparse` to its default value.\n",
            "  warnings.warn(\n"
          ]
        }
      ]
    },
    {
      "cell_type": "code",
      "source": [
        "train_y"
      ],
      "metadata": {
        "colab": {
          "base_uri": "https://localhost:8080/"
        },
        "id": "lET-blcsnf2b",
        "outputId": "070d38c0-bfe2-435e-e9a1-ac1a3745196c"
      },
      "execution_count": null,
      "outputs": [
        {
          "output_type": "execute_result",
          "data": {
            "text/plain": [
              "array([[1., 0.],\n",
              "       [0., 1.],\n",
              "       [0., 1.],\n",
              "       [1., 0.],\n",
              "       [1., 0.],\n",
              "       [0., 1.],\n",
              "       [1., 0.],\n",
              "       [0., 1.],\n",
              "       [0., 1.],\n",
              "       [1., 0.],\n",
              "       [1., 0.],\n",
              "       [1., 0.],\n",
              "       [0., 1.],\n",
              "       [1., 0.],\n",
              "       [1., 0.],\n",
              "       [1., 0.],\n",
              "       [1., 0.],\n",
              "       [0., 1.],\n",
              "       [0., 1.],\n",
              "       [0., 1.],\n",
              "       [1., 0.],\n",
              "       [0., 1.],\n",
              "       [1., 0.],\n",
              "       [1., 0.],\n",
              "       [1., 0.],\n",
              "       [0., 1.],\n",
              "       [1., 0.],\n",
              "       [1., 0.],\n",
              "       [0., 1.],\n",
              "       [1., 0.],\n",
              "       [1., 0.],\n",
              "       [0., 1.],\n",
              "       [0., 1.],\n",
              "       [1., 0.],\n",
              "       [1., 0.],\n",
              "       [1., 0.],\n",
              "       [1., 0.],\n",
              "       [1., 0.],\n",
              "       [1., 0.],\n",
              "       [0., 1.],\n",
              "       [1., 0.],\n",
              "       [0., 1.],\n",
              "       [1., 0.],\n",
              "       [1., 0.],\n",
              "       [0., 1.],\n",
              "       [1., 0.],\n",
              "       [0., 1.],\n",
              "       [0., 1.],\n",
              "       [1., 0.],\n",
              "       [0., 1.],\n",
              "       [0., 1.],\n",
              "       [0., 1.],\n",
              "       [1., 0.],\n",
              "       [0., 1.],\n",
              "       [1., 0.],\n",
              "       [1., 0.],\n",
              "       [0., 1.],\n",
              "       [0., 1.],\n",
              "       [1., 0.],\n",
              "       [0., 1.],\n",
              "       [1., 0.],\n",
              "       [0., 1.],\n",
              "       [1., 0.],\n",
              "       [1., 0.],\n",
              "       [0., 1.],\n",
              "       [1., 0.],\n",
              "       [1., 0.],\n",
              "       [0., 1.],\n",
              "       [0., 1.],\n",
              "       [0., 1.],\n",
              "       [0., 1.],\n",
              "       [0., 1.],\n",
              "       [0., 1.],\n",
              "       [0., 1.],\n",
              "       [0., 1.],\n",
              "       [0., 1.],\n",
              "       [0., 1.],\n",
              "       [0., 1.],\n",
              "       [0., 1.],\n",
              "       [1., 0.],\n",
              "       [1., 0.],\n",
              "       [1., 0.],\n",
              "       [0., 1.],\n",
              "       [0., 1.],\n",
              "       [0., 1.],\n",
              "       [0., 1.],\n",
              "       [1., 0.],\n",
              "       [0., 1.],\n",
              "       [1., 0.],\n",
              "       [1., 0.],\n",
              "       [1., 0.],\n",
              "       [0., 1.],\n",
              "       [1., 0.],\n",
              "       [0., 1.],\n",
              "       [1., 0.],\n",
              "       [1., 0.],\n",
              "       [0., 1.],\n",
              "       [0., 1.],\n",
              "       [1., 0.],\n",
              "       [1., 0.],\n",
              "       [0., 1.],\n",
              "       [1., 0.],\n",
              "       [1., 0.],\n",
              "       [0., 1.],\n",
              "       [0., 1.],\n",
              "       [1., 0.],\n",
              "       [1., 0.],\n",
              "       [0., 1.],\n",
              "       [1., 0.],\n",
              "       [0., 1.],\n",
              "       [0., 1.],\n",
              "       [0., 1.],\n",
              "       [1., 0.],\n",
              "       [0., 1.],\n",
              "       [1., 0.],\n",
              "       [1., 0.],\n",
              "       [0., 1.],\n",
              "       [1., 0.],\n",
              "       [1., 0.],\n",
              "       [0., 1.],\n",
              "       [1., 0.],\n",
              "       [0., 1.],\n",
              "       [0., 1.],\n",
              "       [0., 1.],\n",
              "       [1., 0.],\n",
              "       [0., 1.],\n",
              "       [1., 0.],\n",
              "       [1., 0.],\n",
              "       [0., 1.],\n",
              "       [0., 1.],\n",
              "       [0., 1.],\n",
              "       [0., 1.],\n",
              "       [1., 0.],\n",
              "       [1., 0.],\n",
              "       [1., 0.],\n",
              "       [0., 1.],\n",
              "       [1., 0.],\n",
              "       [0., 1.],\n",
              "       [1., 0.],\n",
              "       [1., 0.],\n",
              "       [0., 1.],\n",
              "       [1., 0.],\n",
              "       [1., 0.],\n",
              "       [0., 1.],\n",
              "       [1., 0.],\n",
              "       [0., 1.],\n",
              "       [1., 0.],\n",
              "       [0., 1.],\n",
              "       [0., 1.],\n",
              "       [1., 0.]])"
            ]
          },
          "metadata": {},
          "execution_count": 5
        }
      ]
    },
    {
      "cell_type": "code",
      "source": [
        "test_y"
      ],
      "metadata": {
        "colab": {
          "base_uri": "https://localhost:8080/"
        },
        "id": "2ZQuo1sQwP7E",
        "outputId": "cc23f2f5-0ab8-42c2-c086-ec6d53672a68"
      },
      "execution_count": null,
      "outputs": [
        {
          "output_type": "execute_result",
          "data": {
            "text/plain": [
              "array([[0., 1.],\n",
              "       [0., 1.],\n",
              "       [1., 0.],\n",
              "       [1., 0.],\n",
              "       [0., 1.],\n",
              "       [0., 1.],\n",
              "       [0., 1.],\n",
              "       [0., 1.],\n",
              "       [0., 1.],\n",
              "       [1., 0.],\n",
              "       [1., 0.],\n",
              "       [1., 0.],\n",
              "       [1., 0.],\n",
              "       [1., 0.],\n",
              "       [0., 1.],\n",
              "       [1., 0.],\n",
              "       [0., 1.],\n",
              "       [0., 1.],\n",
              "       [1., 0.],\n",
              "       [0., 1.],\n",
              "       [1., 0.],\n",
              "       [1., 0.],\n",
              "       [1., 0.],\n",
              "       [0., 1.],\n",
              "       [1., 0.],\n",
              "       [0., 1.],\n",
              "       [1., 0.],\n",
              "       [1., 0.],\n",
              "       [0., 1.],\n",
              "       [1., 0.],\n",
              "       [1., 0.],\n",
              "       [0., 1.],\n",
              "       [0., 1.],\n",
              "       [1., 0.],\n",
              "       [0., 1.],\n",
              "       [1., 0.],\n",
              "       [0., 1.],\n",
              "       [0., 1.],\n",
              "       [0., 1.],\n",
              "       [0., 1.],\n",
              "       [0., 1.],\n",
              "       [1., 0.],\n",
              "       [1., 0.],\n",
              "       [1., 0.],\n",
              "       [0., 1.],\n",
              "       [0., 1.],\n",
              "       [1., 0.],\n",
              "       [0., 1.],\n",
              "       [1., 0.],\n",
              "       [0., 1.]])"
            ]
          },
          "metadata": {},
          "execution_count": 6
        }
      ]
    },
    {
      "cell_type": "code",
      "source": [
        "train_x.shape"
      ],
      "metadata": {
        "colab": {
          "base_uri": "https://localhost:8080/"
        },
        "id": "s3R8fO0dklRD",
        "outputId": "5d5d88a9-e4f5-4216-f944-c7eb2eb49e9c"
      },
      "execution_count": null,
      "outputs": [
        {
          "output_type": "execute_result",
          "data": {
            "text/plain": [
              "(150, 150, 1)"
            ]
          },
          "metadata": {},
          "execution_count": 7
        }
      ]
    },
    {
      "cell_type": "code",
      "source": [
        "#train_x = train_x.reshape(150,-1)\n",
        "train_x"
      ],
      "metadata": {
        "colab": {
          "base_uri": "https://localhost:8080/"
        },
        "id": "eJ3Gd3MYnYpZ",
        "outputId": "475b9d43-6e15-43f4-f341-89a79d4bae0a"
      },
      "execution_count": null,
      "outputs": [
        {
          "output_type": "execute_result",
          "data": {
            "text/plain": [
              "array([[[-1.1250133 ],\n",
              "        [-1.1313383 ],\n",
              "        [-1.1382884 ],\n",
              "        ...,\n",
              "        [-1.2127167 ],\n",
              "        [-1.2061778 ],\n",
              "        [-1.2184217 ]],\n",
              "\n",
              "       [[-0.62695602],\n",
              "        [-0.62591896],\n",
              "        [-0.62753797],\n",
              "        ...,\n",
              "        [-0.61947093],\n",
              "        [-0.61205789],\n",
              "        [-0.60642232]],\n",
              "\n",
              "       [[-2.001163  ],\n",
              "        [-1.9995755 ],\n",
              "        [-1.9995372 ],\n",
              "        ...,\n",
              "        [-0.81271961],\n",
              "        [-1.0711473 ],\n",
              "        [-1.3233828 ]],\n",
              "\n",
              "       ...,\n",
              "\n",
              "       [[-0.73801219],\n",
              "        [-0.73630065],\n",
              "        [-0.73122561],\n",
              "        ...,\n",
              "        [-0.60964613],\n",
              "        [-0.60861649],\n",
              "        [-0.61217658]],\n",
              "\n",
              "       [[-1.2651108 ],\n",
              "        [-1.2560929 ],\n",
              "        [-1.2594215 ],\n",
              "        ...,\n",
              "        [-1.1999699 ],\n",
              "        [-1.1933735 ],\n",
              "        [-1.1928348 ]],\n",
              "\n",
              "       [[-1.4272055 ],\n",
              "        [-1.4083032 ],\n",
              "        [-1.3471178 ],\n",
              "        ...,\n",
              "        [-1.1034614 ],\n",
              "        [-1.1531193 ],\n",
              "        [-1.222043  ]]])"
            ]
          },
          "metadata": {},
          "execution_count": 8
        }
      ]
    },
    {
      "cell_type": "code",
      "source": [
        "#test_x.shape"
      ],
      "metadata": {
        "id": "UqtB_C3EwFa0"
      },
      "execution_count": null,
      "outputs": []
    },
    {
      "cell_type": "code",
      "source": [
        "#test_x = test_x.reshape(50,-1)\n",
        "test_x"
      ],
      "metadata": {
        "colab": {
          "base_uri": "https://localhost:8080/"
        },
        "id": "mVb6QgE1kuPi",
        "outputId": "b85be428-0399-4e9b-86d7-d989001eef04"
      },
      "execution_count": null,
      "outputs": [
        {
          "output_type": "execute_result",
          "data": {
            "text/plain": [
              "array([[[-0.6478854 ],\n",
              "        [-0.64199155],\n",
              "        [-0.63818632],\n",
              "        ...,\n",
              "        [-0.64042873],\n",
              "        [-0.63866571],\n",
              "        [-0.63865722]],\n",
              "\n",
              "       [[-0.64442658],\n",
              "        [-0.64540093],\n",
              "        [-0.64705511],\n",
              "        ...,\n",
              "        [-0.6349345 ],\n",
              "        [-0.6344968 ],\n",
              "        [-0.63159565]],\n",
              "\n",
              "       [[-0.77835282],\n",
              "        [-0.77827907],\n",
              "        [-0.77715084],\n",
              "        ...,\n",
              "        [-0.70419626],\n",
              "        [-0.70760524],\n",
              "        [-0.7071202 ]],\n",
              "\n",
              "       ...,\n",
              "\n",
              "       [[-0.77912617],\n",
              "        [-0.77837863],\n",
              "        [-0.7757449 ],\n",
              "        ...,\n",
              "        [-0.50500603],\n",
              "        [-0.50373099],\n",
              "        [-0.50438486]],\n",
              "\n",
              "       [[-0.70303339],\n",
              "        [-0.70261754],\n",
              "        [-0.70250356],\n",
              "        ...,\n",
              "        [-0.64113375],\n",
              "        [-0.64140622],\n",
              "        [-0.64210896]],\n",
              "\n",
              "       [[-1.4357199 ],\n",
              "        [-1.4322717 ],\n",
              "        [-1.4329285 ],\n",
              "        ...,\n",
              "        [-1.4354619 ],\n",
              "        [-1.4352821 ],\n",
              "        [-1.4308845 ]]])"
            ]
          },
          "metadata": {},
          "execution_count": 10
        }
      ]
    },
    {
      "cell_type": "code",
      "source": [
        "import tensorflow as tf\n",
        "from tensorflow.keras.models import Sequential\n",
        "from tensorflow.keras.layers import LSTM, Dense\n",
        "# Assuming train_x shape is (num_samples, time_steps, num_features)\n",
        "num_time_steps = train_x.shape[1]\n",
        "num_features = train_x.shape[2]\n",
        "num_classes = 2  # Number of output classes (adjust as needed)\n",
        "\n",
        "model = Sequential([\n",
        "    LSTM(64, input_shape=(num_time_steps, num_features)),  # LSTM layer with 64 units\n",
        "    Dense(num_classes, activation='softmax')  # Output layer with softmax activation\n",
        "])\n",
        "\n",
        "# Compile the model\n",
        "model.compile(loss='categorical_crossentropy',  # Use sparse categorical crossentropy for integer targets\n",
        "              optimizer='adam',\n",
        "              metrics=['accuracy'])\n",
        "\n",
        "# Print model summary\n",
        "model.summary()\n"
      ],
      "metadata": {
        "id": "n4hVQ1ZohNqK",
        "colab": {
          "base_uri": "https://localhost:8080/"
        },
        "outputId": "bcab4385-eb2d-42ce-b409-86b28b0726a3"
      },
      "execution_count": null,
      "outputs": [
        {
          "output_type": "stream",
          "name": "stdout",
          "text": [
            "Model: \"sequential\"\n",
            "_________________________________________________________________\n",
            " Layer (type)                Output Shape              Param #   \n",
            "=================================================================\n",
            " lstm (LSTM)                 (None, 64)                16896     \n",
            "                                                                 \n",
            " dense (Dense)               (None, 2)                 130       \n",
            "                                                                 \n",
            "=================================================================\n",
            "Total params: 17026 (66.51 KB)\n",
            "Trainable params: 17026 (66.51 KB)\n",
            "Non-trainable params: 0 (0.00 Byte)\n",
            "_________________________________________________________________\n"
          ]
        }
      ]
    },
    {
      "cell_type": "code",
      "source": [
        "# Train the model\n",
        "num_epochs = 100\n",
        "batch_size = 32\n",
        "\n",
        "model.fit(train_x, train_y, epochs=num_epochs, batch_size=batch_size)\n"
      ],
      "metadata": {
        "colab": {
          "base_uri": "https://localhost:8080/"
        },
        "id": "V2Go4QL6uR1Q",
        "outputId": "3ddac388-dadb-4a80-af52-9cc021511989"
      },
      "execution_count": null,
      "outputs": [
        {
          "output_type": "stream",
          "name": "stdout",
          "text": [
            "Epoch 1/100\n",
            "5/5 [==============================] - 3s 49ms/step - loss: 0.6960 - accuracy: 0.4933\n",
            "Epoch 2/100\n",
            "5/5 [==============================] - 0s 49ms/step - loss: 0.6949 - accuracy: 0.5000\n",
            "Epoch 3/100\n",
            "5/5 [==============================] - 0s 46ms/step - loss: 0.6919 - accuracy: 0.5267\n",
            "Epoch 4/100\n",
            "5/5 [==============================] - 0s 57ms/step - loss: 0.6909 - accuracy: 0.5333\n",
            "Epoch 5/100\n",
            "5/5 [==============================] - 0s 48ms/step - loss: 0.6913 - accuracy: 0.4933\n",
            "Epoch 6/100\n",
            "5/5 [==============================] - 0s 45ms/step - loss: 0.6894 - accuracy: 0.5067\n",
            "Epoch 7/100\n",
            "5/5 [==============================] - 0s 82ms/step - loss: 0.6883 - accuracy: 0.5533\n",
            "Epoch 8/100\n",
            "5/5 [==============================] - 0s 90ms/step - loss: 0.6875 - accuracy: 0.5533\n",
            "Epoch 9/100\n",
            "5/5 [==============================] - 0s 83ms/step - loss: 0.6872 - accuracy: 0.5667\n",
            "Epoch 10/100\n",
            "5/5 [==============================] - 0s 84ms/step - loss: 0.6849 - accuracy: 0.5733\n",
            "Epoch 11/100\n",
            "5/5 [==============================] - 0s 82ms/step - loss: 0.6800 - accuracy: 0.5333\n",
            "Epoch 12/100\n",
            "5/5 [==============================] - 0s 78ms/step - loss: 0.6823 - accuracy: 0.4600\n",
            "Epoch 13/100\n",
            "5/5 [==============================] - 0s 48ms/step - loss: 0.6700 - accuracy: 0.5333\n",
            "Epoch 14/100\n",
            "5/5 [==============================] - 0s 48ms/step - loss: 0.6652 - accuracy: 0.5667\n",
            "Epoch 15/100\n",
            "5/5 [==============================] - 0s 48ms/step - loss: 0.6616 - accuracy: 0.5667\n",
            "Epoch 16/100\n",
            "5/5 [==============================] - 0s 50ms/step - loss: 0.6583 - accuracy: 0.5667\n",
            "Epoch 17/100\n",
            "5/5 [==============================] - 0s 57ms/step - loss: 0.6531 - accuracy: 0.5600\n",
            "Epoch 18/100\n",
            "5/5 [==============================] - 0s 47ms/step - loss: 0.6569 - accuracy: 0.5533\n",
            "Epoch 19/100\n",
            "5/5 [==============================] - 0s 48ms/step - loss: 0.6614 - accuracy: 0.5600\n",
            "Epoch 20/100\n",
            "5/5 [==============================] - 0s 52ms/step - loss: 0.6618 - accuracy: 0.5667\n",
            "Epoch 21/100\n",
            "5/5 [==============================] - 0s 50ms/step - loss: 0.6505 - accuracy: 0.5800\n",
            "Epoch 22/100\n",
            "5/5 [==============================] - 0s 49ms/step - loss: 0.6454 - accuracy: 0.5667\n",
            "Epoch 23/100\n",
            "5/5 [==============================] - 0s 51ms/step - loss: 0.6465 - accuracy: 0.5667\n",
            "Epoch 24/100\n",
            "5/5 [==============================] - 0s 52ms/step - loss: 0.6416 - accuracy: 0.5800\n",
            "Epoch 25/100\n",
            "5/5 [==============================] - 0s 52ms/step - loss: 0.6379 - accuracy: 0.5867\n",
            "Epoch 26/100\n",
            "5/5 [==============================] - 0s 47ms/step - loss: 0.6493 - accuracy: 0.5667\n",
            "Epoch 27/100\n",
            "5/5 [==============================] - 0s 49ms/step - loss: 0.6381 - accuracy: 0.5867\n",
            "Epoch 28/100\n",
            "5/5 [==============================] - 0s 55ms/step - loss: 0.6238 - accuracy: 0.6333\n",
            "Epoch 29/100\n",
            "5/5 [==============================] - 0s 49ms/step - loss: 0.6138 - accuracy: 0.6600\n",
            "Epoch 30/100\n",
            "5/5 [==============================] - 0s 49ms/step - loss: 0.5792 - accuracy: 0.6467\n",
            "Epoch 31/100\n",
            "5/5 [==============================] - 0s 54ms/step - loss: 0.5257 - accuracy: 0.6733\n",
            "Epoch 32/100\n",
            "5/5 [==============================] - 0s 53ms/step - loss: 0.6533 - accuracy: 0.6933\n",
            "Epoch 33/100\n",
            "5/5 [==============================] - 0s 51ms/step - loss: 0.6465 - accuracy: 0.5867\n",
            "Epoch 34/100\n",
            "5/5 [==============================] - 0s 48ms/step - loss: 0.6042 - accuracy: 0.6533\n",
            "Epoch 35/100\n",
            "5/5 [==============================] - 0s 50ms/step - loss: 0.5974 - accuracy: 0.6667\n",
            "Epoch 36/100\n",
            "5/5 [==============================] - 0s 52ms/step - loss: 0.4846 - accuracy: 0.7733\n",
            "Epoch 37/100\n",
            "5/5 [==============================] - 0s 52ms/step - loss: 0.4582 - accuracy: 0.7667\n",
            "Epoch 38/100\n",
            "5/5 [==============================] - 0s 50ms/step - loss: 0.4477 - accuracy: 0.8000\n",
            "Epoch 39/100\n",
            "5/5 [==============================] - 0s 53ms/step - loss: 0.3454 - accuracy: 0.8733\n",
            "Epoch 40/100\n",
            "5/5 [==============================] - 0s 59ms/step - loss: 0.3624 - accuracy: 0.9067\n",
            "Epoch 41/100\n",
            "5/5 [==============================] - 0s 48ms/step - loss: 0.4804 - accuracy: 0.8400\n",
            "Epoch 42/100\n",
            "5/5 [==============================] - 0s 50ms/step - loss: 0.4837 - accuracy: 0.8400\n",
            "Epoch 43/100\n",
            "5/5 [==============================] - 0s 50ms/step - loss: 0.2811 - accuracy: 0.8600\n",
            "Epoch 44/100\n",
            "5/5 [==============================] - 0s 53ms/step - loss: 0.2818 - accuracy: 0.8800\n",
            "Epoch 45/100\n",
            "5/5 [==============================] - 0s 51ms/step - loss: 0.3233 - accuracy: 0.8800\n",
            "Epoch 46/100\n",
            "5/5 [==============================] - 0s 50ms/step - loss: 0.3502 - accuracy: 0.8800\n",
            "Epoch 47/100\n",
            "5/5 [==============================] - 0s 49ms/step - loss: 0.2770 - accuracy: 0.9000\n",
            "Epoch 48/100\n",
            "5/5 [==============================] - 0s 53ms/step - loss: 0.3878 - accuracy: 0.8400\n",
            "Epoch 49/100\n",
            "5/5 [==============================] - 0s 47ms/step - loss: 0.3818 - accuracy: 0.8533\n",
            "Epoch 50/100\n",
            "5/5 [==============================] - 0s 49ms/step - loss: 0.2498 - accuracy: 0.8867\n",
            "Epoch 51/100\n",
            "5/5 [==============================] - 0s 74ms/step - loss: 0.1991 - accuracy: 0.9467\n",
            "Epoch 52/100\n",
            "5/5 [==============================] - 0s 89ms/step - loss: 0.1884 - accuracy: 0.9467\n",
            "Epoch 53/100\n",
            "5/5 [==============================] - 0s 88ms/step - loss: 0.1659 - accuracy: 0.9400\n",
            "Epoch 54/100\n",
            "5/5 [==============================] - 0s 90ms/step - loss: 0.1837 - accuracy: 0.9200\n",
            "Epoch 55/100\n",
            "5/5 [==============================] - 0s 89ms/step - loss: 0.1525 - accuracy: 0.9467\n",
            "Epoch 56/100\n",
            "5/5 [==============================] - 0s 92ms/step - loss: 0.1222 - accuracy: 0.9600\n",
            "Epoch 57/100\n",
            "5/5 [==============================] - 0s 48ms/step - loss: 0.1305 - accuracy: 0.9467\n",
            "Epoch 58/100\n",
            "5/5 [==============================] - 0s 47ms/step - loss: 0.1204 - accuracy: 0.9533\n",
            "Epoch 59/100\n",
            "5/5 [==============================] - 0s 47ms/step - loss: 0.0975 - accuracy: 0.9533\n",
            "Epoch 60/100\n",
            "5/5 [==============================] - 0s 53ms/step - loss: 0.1038 - accuracy: 0.9667\n",
            "Epoch 61/100\n",
            "5/5 [==============================] - 0s 48ms/step - loss: 0.0924 - accuracy: 0.9533\n",
            "Epoch 62/100\n",
            "5/5 [==============================] - 0s 54ms/step - loss: 0.1209 - accuracy: 0.9467\n",
            "Epoch 63/100\n",
            "5/5 [==============================] - 0s 48ms/step - loss: 0.1101 - accuracy: 0.9467\n",
            "Epoch 64/100\n",
            "5/5 [==============================] - 0s 51ms/step - loss: 0.5337 - accuracy: 0.8400\n",
            "Epoch 65/100\n",
            "5/5 [==============================] - 0s 54ms/step - loss: 0.3879 - accuracy: 0.8400\n",
            "Epoch 66/100\n",
            "5/5 [==============================] - 0s 56ms/step - loss: 0.4350 - accuracy: 0.8267\n",
            "Epoch 67/100\n",
            "5/5 [==============================] - 0s 52ms/step - loss: 0.3512 - accuracy: 0.8600\n",
            "Epoch 68/100\n",
            "5/5 [==============================] - 0s 52ms/step - loss: 0.1427 - accuracy: 0.9533\n",
            "Epoch 69/100\n",
            "5/5 [==============================] - 0s 49ms/step - loss: 0.1606 - accuracy: 0.9333\n",
            "Epoch 70/100\n",
            "5/5 [==============================] - 0s 48ms/step - loss: 0.1356 - accuracy: 0.9467\n",
            "Epoch 71/100\n",
            "5/5 [==============================] - 0s 49ms/step - loss: 0.1138 - accuracy: 0.9533\n",
            "Epoch 72/100\n",
            "5/5 [==============================] - 0s 52ms/step - loss: 0.1097 - accuracy: 0.9533\n",
            "Epoch 73/100\n",
            "5/5 [==============================] - 0s 55ms/step - loss: 0.0721 - accuracy: 0.9733\n",
            "Epoch 74/100\n",
            "5/5 [==============================] - 0s 47ms/step - loss: 0.0699 - accuracy: 0.9733\n",
            "Epoch 75/100\n",
            "5/5 [==============================] - 0s 48ms/step - loss: 0.0578 - accuracy: 0.9733\n",
            "Epoch 76/100\n",
            "5/5 [==============================] - 0s 57ms/step - loss: 0.0528 - accuracy: 0.9867\n",
            "Epoch 77/100\n",
            "5/5 [==============================] - 0s 52ms/step - loss: 0.0596 - accuracy: 0.9667\n",
            "Epoch 78/100\n",
            "5/5 [==============================] - 0s 48ms/step - loss: 0.1169 - accuracy: 0.9733\n",
            "Epoch 79/100\n",
            "5/5 [==============================] - 0s 49ms/step - loss: 0.0938 - accuracy: 0.9800\n",
            "Epoch 80/100\n",
            "5/5 [==============================] - 0s 53ms/step - loss: 0.1001 - accuracy: 0.9667\n",
            "Epoch 81/100\n",
            "5/5 [==============================] - 0s 51ms/step - loss: 0.0865 - accuracy: 0.9667\n",
            "Epoch 82/100\n",
            "5/5 [==============================] - 0s 53ms/step - loss: 0.0533 - accuracy: 0.9800\n",
            "Epoch 83/100\n",
            "5/5 [==============================] - 0s 48ms/step - loss: 0.0422 - accuracy: 0.9800\n",
            "Epoch 84/100\n",
            "5/5 [==============================] - 0s 51ms/step - loss: 0.0459 - accuracy: 0.9800\n",
            "Epoch 85/100\n",
            "5/5 [==============================] - 0s 47ms/step - loss: 0.0362 - accuracy: 0.9933\n",
            "Epoch 86/100\n",
            "5/5 [==============================] - 0s 49ms/step - loss: 0.0347 - accuracy: 0.9800\n",
            "Epoch 87/100\n",
            "5/5 [==============================] - 0s 51ms/step - loss: 0.0322 - accuracy: 0.9867\n",
            "Epoch 88/100\n",
            "5/5 [==============================] - 0s 51ms/step - loss: 0.0315 - accuracy: 0.9933\n",
            "Epoch 89/100\n",
            "5/5 [==============================] - 0s 52ms/step - loss: 0.0272 - accuracy: 0.9933\n",
            "Epoch 90/100\n",
            "5/5 [==============================] - 0s 48ms/step - loss: 0.0212 - accuracy: 0.9933\n",
            "Epoch 91/100\n",
            "5/5 [==============================] - 0s 49ms/step - loss: 0.0382 - accuracy: 0.9867\n",
            "Epoch 92/100\n",
            "5/5 [==============================] - 0s 49ms/step - loss: 0.6483 - accuracy: 0.8600\n",
            "Epoch 93/100\n",
            "5/5 [==============================] - 0s 49ms/step - loss: 0.7089 - accuracy: 0.7667\n",
            "Epoch 94/100\n",
            "5/5 [==============================] - 0s 48ms/step - loss: 0.3661 - accuracy: 0.8533\n",
            "Epoch 95/100\n",
            "5/5 [==============================] - 0s 49ms/step - loss: 0.3123 - accuracy: 0.8667\n",
            "Epoch 96/100\n",
            "5/5 [==============================] - 0s 88ms/step - loss: 0.1750 - accuracy: 0.9467\n",
            "Epoch 97/100\n",
            "5/5 [==============================] - 0s 83ms/step - loss: 0.2016 - accuracy: 0.9267\n",
            "Epoch 98/100\n",
            "5/5 [==============================] - 0s 88ms/step - loss: 0.1662 - accuracy: 0.9400\n",
            "Epoch 99/100\n",
            "5/5 [==============================] - 0s 82ms/step - loss: 0.1628 - accuracy: 0.9600\n",
            "Epoch 100/100\n",
            "5/5 [==============================] - 0s 86ms/step - loss: 0.1415 - accuracy: 0.9600\n"
          ]
        },
        {
          "output_type": "execute_result",
          "data": {
            "text/plain": [
              "<keras.src.callbacks.History at 0x7d9886ecac80>"
            ]
          },
          "metadata": {},
          "execution_count": 12
        }
      ]
    },
    {
      "cell_type": "code",
      "source": [
        "model.predict(test_x)"
      ],
      "metadata": {
        "colab": {
          "base_uri": "https://localhost:8080/"
        },
        "id": "E8Z7GHvCkcGz",
        "outputId": "d5f5eef0-b44a-43ce-ac8d-23ed287a8073"
      },
      "execution_count": null,
      "outputs": [
        {
          "output_type": "stream",
          "name": "stdout",
          "text": [
            "2/2 [==============================] - 0s 15ms/step\n"
          ]
        },
        {
          "output_type": "execute_result",
          "data": {
            "text/plain": [
              "array([[0.82746273, 0.17253722],\n",
              "       [0.15754145, 0.8424586 ],\n",
              "       [0.97794336, 0.02205664],\n",
              "       [0.9699618 , 0.03003815],\n",
              "       [0.05235748, 0.9476425 ],\n",
              "       [0.08487571, 0.91512436],\n",
              "       [0.01386714, 0.9861328 ],\n",
              "       [0.13345075, 0.86654925],\n",
              "       [0.01333675, 0.9866633 ],\n",
              "       [0.99023813, 0.00976188],\n",
              "       [0.9804895 , 0.01951051],\n",
              "       [0.9901683 , 0.00983185],\n",
              "       [0.9312189 , 0.06878106],\n",
              "       [0.98899823, 0.01100178],\n",
              "       [0.08568166, 0.91431826],\n",
              "       [0.98952246, 0.01047753],\n",
              "       [0.8003596 , 0.19964045],\n",
              "       [0.11709301, 0.882907  ],\n",
              "       [0.9881785 , 0.01182162],\n",
              "       [0.01274934, 0.9872506 ],\n",
              "       [0.9837174 , 0.01628259],\n",
              "       [0.9787726 , 0.02122733],\n",
              "       [0.98957175, 0.01042823],\n",
              "       [0.06741581, 0.9325842 ],\n",
              "       [0.8789233 , 0.1210766 ],\n",
              "       [0.06155379, 0.9384462 ],\n",
              "       [0.98901606, 0.01098392],\n",
              "       [0.9882982 , 0.01170184],\n",
              "       [0.01247393, 0.98752594],\n",
              "       [0.5600699 , 0.43992996],\n",
              "       [0.968838  , 0.03116205],\n",
              "       [0.02838828, 0.9716117 ],\n",
              "       [0.0131618 , 0.98683804],\n",
              "       [0.9852266 , 0.01477342],\n",
              "       [0.10578591, 0.8942141 ],\n",
              "       [0.9284557 , 0.07154427],\n",
              "       [0.01691771, 0.9830823 ],\n",
              "       [0.3154721 , 0.6845278 ],\n",
              "       [0.03888643, 0.9611136 ],\n",
              "       [0.01350141, 0.9864986 ],\n",
              "       [0.4879363 , 0.5120638 ],\n",
              "       [0.9858817 , 0.01411832],\n",
              "       [0.9814849 , 0.01851511],\n",
              "       [0.98640645, 0.01359361],\n",
              "       [0.01243289, 0.98756707],\n",
              "       [0.07037304, 0.92962694],\n",
              "       [0.8828448 , 0.11715521],\n",
              "       [0.6695388 , 0.3304612 ],\n",
              "       [0.93304396, 0.06695612],\n",
              "       [0.01321695, 0.986783  ]], dtype=float32)"
            ]
          },
          "metadata": {},
          "execution_count": 13
        }
      ]
    },
    {
      "cell_type": "code",
      "source": [
        "train_x.shape"
      ],
      "metadata": {
        "colab": {
          "base_uri": "https://localhost:8080/"
        },
        "id": "y9_JJ4iFwjPB",
        "outputId": "6076d592-a318-4ba3-db43-5d9900ba0d95"
      },
      "execution_count": null,
      "outputs": [
        {
          "output_type": "execute_result",
          "data": {
            "text/plain": [
              "(150, 150, 1)"
            ]
          },
          "metadata": {},
          "execution_count": 14
        }
      ]
    },
    {
      "cell_type": "code",
      "source": [
        "item=test_x[10].reshape(1,test_x.shape[1],test_x.shape[2])\n",
        "shape=item.shape\n",
        "y_target= model.predict(item)"
      ],
      "metadata": {
        "id": "8sl4vZw6rGur",
        "colab": {
          "base_uri": "https://localhost:8080/"
        },
        "outputId": "5c118a5a-c989-4681-eb75-486484347b4c"
      },
      "execution_count": null,
      "outputs": [
        {
          "output_type": "stream",
          "name": "stdout",
          "text": [
            "1/1 [==============================] - 0s 72ms/step\n"
          ]
        }
      ]
    },
    {
      "cell_type": "code",
      "source": [
        "y_target"
      ],
      "metadata": {
        "id": "gzhC8vVFOXJt",
        "colab": {
          "base_uri": "https://localhost:8080/"
        },
        "outputId": "1bb5dfb4-58d5-458f-ab4c-e22e41c1482d"
      },
      "execution_count": null,
      "outputs": [
        {
          "output_type": "execute_result",
          "data": {
            "text/plain": [
              "array([[0.9804895 , 0.01951052]], dtype=float32)"
            ]
          },
          "metadata": {},
          "execution_count": 22
        }
      ]
    },
    {
      "cell_type": "code",
      "source": [
        "from TSInterpret.InterpretabilityModels.counterfactual.COMTECF import COMTECF\n",
        "\n",
        "exp_model= COMTECF(model,(train_x,train_y),mode='time', backend='TF', method= 'brute')"
      ],
      "metadata": {
        "id": "G5rbW42Cr-_F"
      },
      "execution_count": null,
      "outputs": []
    },
    {
      "cell_type": "code",
      "source": [
        "exp = exp_model.explain(item)\n"
      ],
      "metadata": {
        "id": "vduY54QwrSlt",
        "colab": {
          "base_uri": "https://localhost:8080/"
        },
        "outputId": "3c77f057-95fa-470b-ccb4-7ded9e37c5af"
      },
      "execution_count": null,
      "outputs": [
        {
          "output_type": "stream",
          "name": "stdout",
          "text": [
            "1/1 [==============================] - 0s 25ms/step\n",
            "1/1 [==============================] - 0s 22ms/step\n",
            "5/5 [==============================] - 0s 18ms/step\n",
            "1/1 [==============================] - 0s 21ms/step\n",
            "1/1 [==============================] - 0s 20ms/step\n",
            "1/1 [==============================] - 0s 24ms/step\n",
            "1/1 [==============================] - 0s 22ms/step\n",
            "1/1 [==============================] - 0s 23ms/step\n",
            "1/1 [==============================] - 0s 21ms/step\n",
            "1/1 [==============================] - 0s 20ms/step\n",
            "1/1 [==============================] - 0s 19ms/step\n",
            "1/1 [==============================] - 0s 22ms/step\n"
          ]
        }
      ]
    },
    {
      "cell_type": "code",
      "source": [
        "array, label=exp\n"
      ],
      "metadata": {
        "id": "E81b6UVC5AD7"
      },
      "execution_count": null,
      "outputs": []
    },
    {
      "cell_type": "code",
      "source": [
        "%matplotlib inline\n",
        "org_label=np.argmax(y_target)\n",
        "cf_label=label[0]\n",
        "exp=array\n",
        "print(exp.shape)\n",
        "exp_model.plot_in_one(np.array(item[0]),org_label,np.array(exp[0]),cf_label)"
      ],
      "metadata": {
        "colab": {
          "base_uri": "https://localhost:8080/",
          "height": 401
        },
        "id": "Ox--IY4W5DE7",
        "outputId": "81c1e56d-50b4-44d3-e352-281528d81023"
      },
      "execution_count": null,
      "outputs": [
        {
          "output_type": "stream",
          "name": "stdout",
          "text": [
            "(1, 150, 1)\n"
          ]
        },
        {
          "output_type": "display_data",
          "data": {
            "text/plain": [
              "<Figure size 512x384 with 1 Axes>"
            ],
            "image/png": "[encoded data removed]"
          },
          "metadata": {}
        }
      ]
    },
    {
      "cell_type": "code",
      "source": [],
      "metadata": {
        "id": "N_nymzwd5Fq1"
      },
      "execution_count": null,
      "outputs": []
    }
  ]
}